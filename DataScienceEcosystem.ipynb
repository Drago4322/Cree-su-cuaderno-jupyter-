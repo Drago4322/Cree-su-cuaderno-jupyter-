{
 "cells": [
  {
   "cell_type": "markdown",
   "id": "351faa7d-df9b-470e-8585-09a65cffd9e5",
   "metadata": {},
   "source": [
    "# Data Science Tools and Ecosystem"
   ]
  },
  {
   "cell_type": "markdown",
   "id": "81cb33e8-ecfa-414e-bf06-45c7ebd76da9",
   "metadata": {},
   "source": [
    "### En este cuaderno, se resumen las herramientas y ecosistemas de ciencia de datos."
   ]
  },
  {
   "cell_type": "markdown",
   "id": "bfc4ea92-4f24-4fc4-9409-a274ba304ff8",
   "metadata": {},
   "source": [
    "**Objetivos**"
   ]
  },
  {
   "cell_type": "markdown",
   "id": "4c14b82f-52be-47bf-8479-29e35356792e",
   "metadata": {},
   "source": [
    "- Listar lenguajes populares para Ciencia de Datos \n",
    "- Listar bibliotecas comúnmente utilizads por los cientificos de datos\n",
    "- Listar herramientas 'de Ciencia de datos "
   ]
  },
  {
   "cell_type": "markdown",
   "id": "8740576d-0b4e-48e9-83c5-025c4921843a",
   "metadata": {},
   "source": [
    "#### Algunos de los lenguajes populares que utilizan los científicos de datos son:"
   ]
  },
  {
   "cell_type": "markdown",
   "id": "cfb9efdd-847d-4a07-bff2-2c3f1dde2e68",
   "metadata": {},
   "source": [
    "1. Python\n",
    "2. R\n",
    "3. SQL\n",
    "4. NOSQL"
   ]
  },
  {
   "cell_type": "markdown",
   "id": "1637f6b1-447c-44e0-b093-ec592e971664",
   "metadata": {},
   "source": [
    "#### Algunas de las bibliotecas comúnmente utilizadas por los científicos de datos incluyen:"
   ]
  },
  {
   "cell_type": "markdown",
   "id": "6aed3447-4143-4de7-ab8c-717eb7f52729",
   "metadata": {},
   "source": [
    "1. Plotly\n",
    "2. Pandas\n",
    "3. Tensorflow\n",
    "4. NumPy"
   ]
  },
  {
   "cell_type": "markdown",
   "id": "2b19eb22-3ddf-4965-9890-5ea6404a6831",
   "metadata": {},
   "source": [
    "|Herramientas de Ciencia de Datos|\n",
    "|--------------------------------|\n",
    "|Python|\n",
    "|Jupyter notebook|\n",
    "|Anaconda|\n",
    "|R|"
   ]
  },
  {
   "cell_type": "markdown",
   "id": "76dd481f-e43a-41f7-8121-e3ea448a579d",
   "metadata": {},
   "source": [
    "### A continuación, se presentan algunos ejemplos de evaluación de expresiones aritméticas en Python"
   ]
  },
  {
   "cell_type": "code",
   "execution_count": 7,
   "id": "bd43a62a-12b1-4741-aa07-9b220317d0fc",
   "metadata": {},
   "outputs": [
    {
     "data": {
      "text/plain": [
       "17"
      ]
     },
     "execution_count": 7,
     "metadata": {},
     "output_type": "execute_result"
    }
   ],
   "source": [
    "(3*4)+5\n",
    "#  Esta es una expresión aritmética simple para multiplicar y luego sumar enteros"
   ]
  },
  {
   "cell_type": "code",
   "execution_count": 8,
   "id": "89eb166e-0b7e-48ce-9b21-46ba0ee04720",
   "metadata": {},
   "outputs": [
    {
     "data": {
      "text/plain": [
       "3.3333333333333335"
      ]
     },
     "execution_count": 8,
     "metadata": {},
     "output_type": "execute_result"
    }
   ],
   "source": [
    "200/60\n",
    "#Esto convertirá 200 minutos a horas dividiendo por 60"
   ]
  },
  {
   "cell_type": "markdown",
   "id": "e2b3ceba-8e02-468b-aa29-dd602f264daf",
   "metadata": {},
   "source": [
    "## Autor\n",
    "Bruno Ángel Inciarte Díaz "
   ]
  }
 ],
 "metadata": {
  "kernelspec": {
   "display_name": "Python 3 (ipykernel)",
   "language": "python",
   "name": "python3"
  },
  "language_info": {
   "codemirror_mode": {
    "name": "ipython",
    "version": 3
   },
   "file_extension": ".py",
   "mimetype": "text/x-python",
   "name": "python",
   "nbconvert_exporter": "python",
   "pygments_lexer": "ipython3",
   "version": "3.11.9"
  }
 },
 "nbformat": 4,
 "nbformat_minor": 5
}
